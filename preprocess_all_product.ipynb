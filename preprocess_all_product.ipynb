{
 "cells": [
  {
   "cell_type": "code",
   "execution_count": 1,
   "metadata": {},
   "outputs": [
    {
     "name": "stdout",
     "output_type": "stream",
     "text": [
      "196122\n"
     ]
    }
   ],
   "source": [
    "import pandas as pd\n",
    "import math as math\n",
    "import matplotlib.pyplot as plt\n",
    "import numpy as np\n",
    "import seaborn as sns\n",
    "from sklearn.preprocessing import LabelEncoder\n",
    "\n",
    "df = pd.read_csv('./merged-daily-sales.csv')\n",
    "unique_product_names = df['Produk'].unique()\n",
    "\n",
    "'''\n",
    "Produk Name in Column\n",
    "['PicsArt PRO' 'Bstation' 'WeTV VIP' 'VIU Premium' 'Prime Video' 'HBO GO'\n",
    " 'IQIYI VIP' 'Youku' 'Vidio Premier' 'Netflix Premium' 'Disney+ Hostar'\n",
    " 'Youtube Premium' 'Catchplay+' 'Mango TV' 'Vision+ Sport' 'Apple TV+'\n",
    " 'VN Pro' 'NordVPN' 'Apple Music' nan 'Capcut Pro' 'Iflix' 'Viki Rakuten'\n",
    " 'Genflix' 'Microsoft 360' 'Canva PRO' 'Remini Pro' 'Spotify Premium'\n",
    " 'Mojo Pro' 'Lightroom' 'Mola TV' 'Loklok' 'Gramedia Digital' '1 Tahun'\n",
    " 'Tiktok Music' 'Vision Sport' 'wtsa' 'Gagaoolala' 'q' 'HBO MAX' \n",
    " 'Youku VIP' 'ChatGPT' '1']\n",
    "'''\n",
    "\n",
    "product_names = [\n",
    " 'PicsArt PRO', 'Bstation', 'WeTV VIP', 'VIU Premium', 'Prime Video', 'HBO GO',\n",
    " 'IQIYI VIP', 'Youku', 'Vidio Premier', 'Netflix Premium', 'Disney+ Hostar',\n",
    " 'Youtube Premium', 'Catchplay+', 'Mango TV', 'Vision+ Sport', 'Apple TV+',\n",
    " 'VN Pro', 'NordVPN', 'Apple Music', 'Capcut Pro', 'Iflix', 'Viki Rakuten',\n",
    " 'Genflix', 'Microsoft 360', 'Canva PRO', 'Remini Pro', 'Spotify Premium',\n",
    " 'Mojo Pro', 'Lightroom', 'Mola TV', 'Loklok', 'Gramedia Digital', 'Tiktok Music', \n",
    " 'Vision Sport', 'Gagaoolala', 'HBO MAX', 'Youku VIP', 'ChatGPT'\n",
    "]\n",
    "\n",
    "\n",
    "# Filter out rows in 'Produk' column\n",
    "# product_items = [ 'VIU Premium', 'IQIYI VIP', 'Vidio Premier']\n",
    "\n",
    "# df  = df[df['Produk'].isin(product_items)]\n",
    "\n",
    "print(len(df))"
   ]
  },
  {
   "cell_type": "code",
   "execution_count": 2,
   "metadata": {},
   "outputs": [
    {
     "name": "stdout",
     "output_type": "stream",
     "text": [
      "Summarized Missing Data : Tanggal     24\n",
      "Produk     197\n",
      "Harga      187\n",
      "dtype: int64\n",
      "Deleted Data:202\n"
     ]
    },
    {
     "data": {
      "image/png": "[encoded data removed]",
      "text/plain": [
       "<Figure size 640x480 with 1 Axes>"
      ]
     },
     "metadata": {},
     "output_type": "display_data"
    }
   ],
   "source": [
    "#Check Missing Data\n",
    "def dropna_columns():\n",
    "    global df\n",
    "    null_data = pd.DataFrame({\n",
    "        \"Column\": df.columns,\n",
    "        \"Empty Data Count\": df.isnull().sum().values\n",
    "    })\n",
    "    print(f\"Summarized Missing Data : {df.isnull().sum()}\")\n",
    "\n",
    "\n",
    "    fig, ax = plt.subplots()\n",
    "\n",
    "    # hide axes\n",
    "    fig.patch.set_visible(False)\n",
    "    ax.axis('off')\n",
    "    ax.axis('tight')\n",
    "\n",
    "\n",
    "    ax.table(cellText=null_data.values, colLabels=null_data.columns, loc='center',cellLoc='center')\n",
    "\n",
    "    fig.tight_layout()\n",
    "\n",
    "    initial_rows = len(df)\n",
    "\n",
    "    df = df.dropna()\n",
    "\n",
    "    # df.to_csv('no_missing_data.csv', index=False)\n",
    "\n",
    "    print(f\"Deleted Data:{initial_rows - len(df)}\")\n",
    "    \n",
    "dropna_columns()"
   ]
  },
  {
   "cell_type": "code",
   "execution_count": 3,
   "metadata": {},
   "outputs": [],
   "source": [
    "# --- 2. Data Preprocessing ---\n",
    "# Convert 'Tanggal' to datetime objects\n",
    "# This is crucial for correct chronological sorting and time-based operations.\n",
    "# We use dayfirst=True if your date format is DD-MM-YYYY. Adjust if it's MM-DD-YYYY.\n",
    "try:\n",
    "    df['Tanggal'] = pd.to_datetime(df['Tanggal'], dayfirst=True)\n",
    "except ValueError:\n",
    "    print(\"Attempting to parse Tanggal with default format (MM-DD-YYYY or YYYY-MM-DD).\")\n",
    "    df['Tanggal'] = pd.to_datetime(df['Tanggal'])\n",
    "    \n",
    "# Ensure 'Harga' is a numeric type\n",
    "df['Harga'] = pd.to_numeric(df['Harga'], errors='coerce') # 'coerce' will turn non-numeric into NaN"
   ]
  },
  {
   "cell_type": "markdown",
   "metadata": {},
   "source": [
    "# Data Aggregation"
   ]
  },
  {
   "cell_type": "code",
   "execution_count": 4,
   "metadata": {},
   "outputs": [],
   "source": [
    "df = df.groupby(['Tanggal', 'Produk']).agg(\n",
    "    total_revenue=('Harga', 'sum'),\n",
    "    # transaction_count=('Harga', 'count'),\n",
    "    # average_price=('Harga', 'mean')\n",
    ").reset_index()\n",
    "df = df.sort_values(by=['Produk', 'Tanggal']).reset_index(drop=True)\n",
    "# df.to_csv('processed_sales_data.csv', index=False)"
   ]
  },
  {
   "cell_type": "markdown",
   "metadata": {},
   "source": [
    "# Time Feature Engineering"
   ]
  },
  {
   "cell_type": "code",
   "execution_count": 5,
   "metadata": {},
   "outputs": [],
   "source": [
    "# df['month'] = df['Tanggal'].dt.month\n",
    "# df['day'] = df['Tanggal'].dt.day\n",
    "# df['day_of_week'] = df['Tanggal'].dt.dayofweek\n",
    "\n",
    "# df['month_sin'] = np.sin(2 * np.pi * df['month'] / 12)\n",
    "# df['month_cos'] = np.cos(2 * np.pi * df['month'] / 12)\n",
    "\n",
    "# # DayOfWeek\n",
    "# df['day_of_week_sin'] = np.sin(2 * np.pi * df['day_of_week'] / 7)\n",
    "# df['day_of_week_cos'] = np.cos(2 * np.pi * df['day_of_week'] / 7)\n",
    "\n",
    "# df['is_weekend'] = df['day_of_week'].isin([5, 6]).astype(int) \n"
   ]
  },
  {
   "cell_type": "markdown",
   "metadata": {},
   "source": [
    "# Rolling Statistics"
   ]
  },
  {
   "cell_type": "code",
   "execution_count": 6,
   "metadata": {},
   "outputs": [],
   "source": [
    "window_sizes = [10]\n",
    "target_col = 'total_revenue'\n",
    "\n",
    "for window in window_sizes:\n",
    "    grouped_product_data = df.groupby('Produk')[target_col]\n",
    "\n",
    "    df[f'{target_col}_ema_{window}'] = grouped_product_data.shift(1).ewm(span=window, adjust=False, min_periods=1).mean()\n",
    "\n",
    "    # df[f'{target_col}_roll_std_{window}'] = grouped_product_data.transform(\n",
    "    #     lambda x: x.shift(1).rolling(window=window, min_periods=1).std()\n",
    "    # )\n",
    "    # df[f'{target_col}_roll_min_{window}'] = grouped_product_data.transform(\n",
    "    #     lambda x: x.shift(1).rolling(window=window, min_periods=1).min()\n",
    "    # )\n",
    "    # df[f'{target_col}_roll_max_{window}'] = grouped_product_data.transform(\n",
    "    #     lambda x: x.shift(1).rolling(window=window, min_periods=1).max()\n",
    "    # )"
   ]
  },
  {
   "cell_type": "markdown",
   "metadata": {},
   "source": [
    "# Lag"
   ]
  },
  {
   "cell_type": "code",
   "execution_count": 7,
   "metadata": {},
   "outputs": [],
   "source": [
    "lag_periods = [1]\n",
    "\n",
    "for lag in lag_periods:\n",
    "    df[f'{target_col}_lag_{lag}'] = df.groupby('Produk')[target_col].shift(lag)"
   ]
  },
  {
   "cell_type": "markdown",
   "metadata": {},
   "source": [
    "# Create Specific Target Variable For 1 Month Ahead"
   ]
  },
  {
   "cell_type": "code",
   "execution_count": 8,
   "metadata": {},
   "outputs": [],
   "source": [
    "# forecast_horizon_days = 30\n",
    "# df['target_revenue_1_month_ahead'] = df.groupby('Produk')[target_col].shift(-forecast_horizon_days)"
   ]
  },
  {
   "cell_type": "markdown",
   "metadata": {},
   "source": [
    "# Remove NaN Data To Ensure Data Cleanliness"
   ]
  },
  {
   "cell_type": "code",
   "execution_count": 9,
   "metadata": {},
   "outputs": [
    {
     "name": "stdout",
     "output_type": "stream",
     "text": [
      "Summarized Missing Data : Tanggal                  0\n",
      "Produk                   0\n",
      "total_revenue            0\n",
      "total_revenue_ema_10     3\n",
      "total_revenue_lag_1     42\n",
      "dtype: int64\n",
      "Deleted Data:42\n"
     ]
    },
    {
     "data": {
      "image/png": "[encoded data removed]",
      "text/plain": [
       "<Figure size 640x480 with 1 Axes>"
      ]
     },
     "metadata": {},
     "output_type": "display_data"
    }
   ],
   "source": [
    "\n",
    "\n",
    "# df = df.dropna(subset=['target_price_1_month_ahead'])\n",
    "dropna_columns()"
   ]
  },
  {
   "cell_type": "markdown",
   "metadata": {},
   "source": [
    "# Encode Product"
   ]
  },
  {
   "cell_type": "code",
   "execution_count": 10,
   "metadata": {},
   "outputs": [],
   "source": [
    "# le = LabelEncoder()\n",
    "# df['produk_encoded'] = le.fit_transform(df['Produk'])"
   ]
  },
  {
   "cell_type": "markdown",
   "metadata": {},
   "source": [
    "# Labeling For Classification\n"
   ]
  },
  {
   "cell_type": "code",
   "execution_count": 11,
   "metadata": {},
   "outputs": [
    {
     "name": "stderr",
     "output_type": "stream",
     "text": [
      "C:\\Users\\User\\AppData\\Local\\Temp\\ipykernel_4884\\2788228842.py:9: SettingWithCopyWarning: \n",
      "A value is trying to be set on a copy of a slice from a DataFrame.\n",
      "Try using .loc[row_indexer,col_indexer] = value instead\n",
      "\n",
      "See the caveats in the documentation: https://pandas.pydata.org/pandas-docs/stable/user_guide/indexing.html#returning-a-view-versus-a-copy\n",
      "  df['revenue_class'] = df['total_revenue'].apply(classify_revenue)\n"
     ]
    }
   ],
   "source": [
    "def classify_revenue(predicted_revenue):\n",
    "    if predicted_revenue >= 1000000:\n",
    "        return \"Good for Sale\"\n",
    "    elif 500000 <= predicted_revenue < 1000000:\n",
    "        return \"Normal Sale\"\n",
    "    else: # predicted_revenue < 500000\n",
    "        return \"Bad for Sale\"\n",
    "    \n",
    "df['revenue_class'] = df['total_revenue'].apply(classify_revenue)"
   ]
  },
  {
   "cell_type": "code",
   "execution_count": null,
   "metadata": {},
   "outputs": [],
   "source": []
  },
  {
   "cell_type": "markdown",
   "metadata": {},
   "source": [
    "# Split The Data"
   ]
  },
  {
   "cell_type": "code",
   "execution_count": 12,
   "metadata": {},
   "outputs": [
    {
     "name": "stdout",
     "output_type": "stream",
     "text": [
      "Tanggal                 datetime64[ns]\n",
      "Produk                          object\n",
      "total_revenue                  float64\n",
      "total_revenue_ema_10           float64\n",
      "total_revenue_lag_1            float64\n",
      "revenue_class                   object\n",
      "dtype: object\n"
     ]
    }
   ],
   "source": [
    "start_date = pd.to_datetime('2025-01-01')\n",
    "\n",
    "df.to_csv(\"final_dataset.csv\", index=False)\n",
    "\n",
    "# data_feb_apr_2025 = df[\n",
    "#     (df['Tanggal'] >= start_date)\n",
    "# ]\n",
    "\n",
    "# df = df[\n",
    "#   (df['Tanggal'] < start_date)\n",
    "# ]\n",
    "\n",
    "# print(f\"Jumlah Data Feb-Apr 2025: {len(data_feb_apr_2025)}\")\n",
    "# print(f\"Jumlah Data Jan 2024 - Jan 2025: {len(df)}\")\n",
    "\n",
    "# data_feb_apr_2025.to_csv('data_test.csv', index=False)\n",
    "# df.to_csv('data_training.csv', index=False)\n",
    "\n",
    "print(df.dtypes)\n"
   ]
  }
 ],
 "metadata": {
  "kernelspec": {
   "display_name": ".venv",
   "language": "python",
   "name": "python3"
  },
  "language_info": {
   "codemirror_mode": {
    "name": "ipython",
    "version": 3
   },
   "file_extension": ".py",
   "mimetype": "text/x-python",
   "name": "python",
   "nbconvert_exporter": "python",
   "pygments_lexer": "ipython3",
   "version": "3.10.7"
  },
  "orig_nbformat": 4
 },
 "nbformat": 4,
 "nbformat_minor": 2
}

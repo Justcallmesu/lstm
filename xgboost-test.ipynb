{
 "cells": [
  {
   "cell_type": "code",
   "execution_count": null,
   "metadata": {},
   "outputs": [],
   "source": [
    "import pandas as pd\n",
    "\n",
    "# Ambil data historis 7 hari sebelumnya\n",
    "last_7_days = df[df['date'] < '2025-06-10'].tail(7)\n",
    "\n",
    "# Hitung rolling mean\n",
    "rolling_avg_7d = last_7_days['total_revenue'].mean()\n",
    "\n",
    "# Hitung delta dari prediksi terhadap rata-rata\n",
    "delta = predicted_revenue - rolling_avg_7d\n",
    "\n",
    "# Dapatkan informasi hari\n",
    "import datetime\n",
    "date_target = datetime.date(2025, 6, 10)\n",
    "day_of_week = date_target.weekday()  # 0=Senin, ..., 6=Minggu\n",
    "input_features = pd.DataFrame([{\n",
    "    'predicted_revenue': predicted_revenue,\n",
    "    'rolling_avg_7d': rolling_avg_7d,\n",
    "    'delta_pred_vs_avg': delta,\n",
    "    'day_of_week': day_of_week\n",
    "}])\n",
    "import xgboost as xgb\n",
    "import joblib\n",
    "\n",
    "# Load model (pastikan modelnya sudah dilatih sebelumnya)\n",
    "model = joblib.load(\"xgboost_revenue_classifier.pkl\")\n",
    "\n",
    "# Prediksi kelas performa hari\n",
    "predicted_class = model.predict(input_features)\n",
    "\n",
    "print(\"Prediksi performa hari:\", predicted_class[0])\n",
    "import xgboost as xgb\n",
    "import joblib\n",
    "\n",
    "# Load model (pastikan modelnya sudah dilatih sebelumnya)\n",
    "model = joblib.load(\"xgboost_revenue_classifier.pkl\")\n",
    "\n",
    "# Prediksi kelas performa hari\n",
    "predicted_class = model.predict(input_features)\n",
    "\n",
    "print(\"Prediksi performa hari:\", predicted_class[0])"
   ]
  }
 ],
 "metadata": {
  "language_info": {
   "name": "python"
  },
  "orig_nbformat": 4
 },
 "nbformat": 4,
 "nbformat_minor": 2
}
